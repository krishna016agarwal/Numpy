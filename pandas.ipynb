{
 "cells": [
  {
   "cell_type": "code",
   "execution_count": 282,
   "id": "37b83250",
   "metadata": {},
   "outputs": [],
   "source": [
    "import pandas as pd\n",
    "import numpy as np"
   ]
  },
  {
   "cell_type": "code",
   "execution_count": 283,
   "id": "df2e9ea5",
   "metadata": {},
   "outputs": [
    {
     "name": "stdout",
     "output_type": "stream",
     "text": [
      "0    1\n",
      "1    2\n",
      "2    3\n",
      "3    4\n",
      "dtype: int64\n"
     ]
    }
   ],
   "source": [
    "arr=pd.Series([1,2,3,4])\n",
    "print(arr)"
   ]
  },
  {
   "cell_type": "code",
   "execution_count": 284,
   "id": "7c9a39a1",
   "metadata": {},
   "outputs": [
    {
     "name": "stdout",
     "output_type": "stream",
     "text": [
      "0      1\n",
      "1      2\n",
      "2      3\n",
      "3      4\n",
      "4    abc\n",
      "dtype: object\n"
     ]
    }
   ],
   "source": [
    "arr=pd.Series([1,2,3,4,\"abc\"])\n",
    "print(arr)"
   ]
  },
  {
   "cell_type": "code",
   "execution_count": 285,
   "id": "68c2cb4f",
   "metadata": {},
   "outputs": [
    {
     "name": "stdout",
     "output_type": "stream",
     "text": [
      "object\n",
      "RangeIndex(start=0, stop=5, step=1)\n"
     ]
    }
   ],
   "source": [
    "print(arr.dtype)\n",
    "print(arr.index)"
   ]
  },
  {
   "cell_type": "code",
   "execution_count": 286,
   "id": "29aa6bb6",
   "metadata": {},
   "outputs": [
    {
     "name": "stdout",
     "output_type": "stream",
     "text": [
      "None\n"
     ]
    }
   ],
   "source": [
    "print(arr.name)"
   ]
  },
  {
   "cell_type": "code",
   "execution_count": 287,
   "id": "2d4118cc",
   "metadata": {},
   "outputs": [
    {
     "name": "stdout",
     "output_type": "stream",
     "text": [
      "0      1\n",
      "1      2\n",
      "2      3\n",
      "3      4\n",
      "4    abc\n",
      "Name: Numbers, dtype: object\n"
     ]
    }
   ],
   "source": [
    "arr.name=\"Numbers\"\n",
    "print(arr)"
   ]
  },
  {
   "cell_type": "markdown",
   "id": "3e7546e7",
   "metadata": {},
   "source": [
    "## Indexing"
   ]
  },
  {
   "cell_type": "code",
   "execution_count": 288,
   "id": "bf0ac20c",
   "metadata": {},
   "outputs": [
    {
     "name": "stdout",
     "output_type": "stream",
     "text": [
      "1\n",
      "\n",
      " 0    1\n",
      "1    2\n",
      "2    3\n",
      "Name: Numbers, dtype: object\n"
     ]
    }
   ],
   "source": [
    "print(arr[0])\n",
    "print(\"\\n\",arr[0:3])"
   ]
  },
  {
   "cell_type": "markdown",
   "id": "03cd99d1",
   "metadata": {},
   "source": [
    "## iloc -> location based indexing"
   ]
  },
  {
   "cell_type": "code",
   "execution_count": 289,
   "id": "6d0e0580",
   "metadata": {},
   "outputs": [
    {
     "name": "stdout",
     "output_type": "stream",
     "text": [
      "4\n",
      "4\n",
      "\n",
      " 1    2\n",
      "3    4\n",
      "Name: Numbers, dtype: object\n"
     ]
    }
   ],
   "source": [
    "print(arr.iloc[3])\n",
    "print(arr[3])\n",
    "\n",
    "print(\"\\n\",arr.iloc[[1,3]])"
   ]
  },
  {
   "cell_type": "code",
   "execution_count": 290,
   "id": "f39daccd",
   "metadata": {},
   "outputs": [
    {
     "name": "stdout",
     "output_type": "stream",
     "text": [
      "apple     10\n",
      "banana    20\n",
      "grapes    30\n",
      "mango     40\n",
      "Name: calories, dtype: int64\n",
      "30\n"
     ]
    }
   ],
   "source": [
    "index= [\"apple\",\"banana\",\"grapes\",\"mango\"]\n",
    "arr=pd.Series([10,20,30,40])\n",
    "arr.index=index\n",
    "arr.name=\"calories\"\n",
    "print(arr)\n",
    "\n",
    "print(arr[\"grapes\"])\n",
    "# Error ->  iloc only works with numeric indexing\n",
    "\n",
    "# print(arr.iloc['banana'])  -> Give error"
   ]
  },
  {
   "cell_type": "markdown",
   "id": "8c6a8aad",
   "metadata": {},
   "source": [
    "## loc -> label based indexing\n",
    "### In label based indexing your start as well as stop value both are included in the output"
   ]
  },
  {
   "cell_type": "code",
   "execution_count": 291,
   "id": "8745a687",
   "metadata": {},
   "outputs": [
    {
     "name": "stdout",
     "output_type": "stream",
     "text": [
      "banana    20\n",
      "mango     40\n",
      "Name: calories, dtype: int64\n"
     ]
    }
   ],
   "source": [
    "print(arr.loc[[\"banana\",\"mango\"]])"
   ]
  },
  {
   "cell_type": "code",
   "execution_count": 292,
   "id": "10e385f6",
   "metadata": {},
   "outputs": [
    {
     "name": "stdout",
     "output_type": "stream",
     "text": [
      "banana    20\n",
      "grapes    30\n",
      "mango     40\n",
      "Name: calories, dtype: int64\n"
     ]
    }
   ],
   "source": [
    "print(arr[\"banana\":\"mango\"])"
   ]
  },
  {
   "cell_type": "code",
   "execution_count": 293,
   "id": "af0dc957",
   "metadata": {},
   "outputs": [
    {
     "name": "stdout",
     "output_type": "stream",
     "text": [
      "apple    40\n",
      "mango    60\n",
      "pears    70\n",
      "Name: proteins, dtype: int64\n"
     ]
    }
   ],
   "source": [
    "dict = {\n",
    "    \"apple\":40,\n",
    "    \"mango\":60,\n",
    "    \"pears\":70\n",
    "    }\n",
    "arr2=pd.Series(dict,name=\"proteins\")\n",
    "print(arr2)"
   ]
  },
  {
   "cell_type": "markdown",
   "id": "d6abf1de",
   "metadata": {},
   "source": [
    "## Conditional Selection"
   ]
  },
  {
   "cell_type": "code",
   "execution_count": 294,
   "id": "81a70d58",
   "metadata": {},
   "outputs": [
    {
     "name": "stdout",
     "output_type": "stream",
     "text": [
      "apple    False\n",
      "mango     True\n",
      "pears     True\n",
      "Name: proteins, dtype: bool\n"
     ]
    }
   ],
   "source": [
    "print(arr2>40)"
   ]
  },
  {
   "cell_type": "code",
   "execution_count": 295,
   "id": "e95a7fa7",
   "metadata": {},
   "outputs": [
    {
     "name": "stdout",
     "output_type": "stream",
     "text": [
      "mango    60\n",
      "pears    70\n",
      "Name: proteins, dtype: int64\n"
     ]
    }
   ],
   "source": [
    "print(arr2[arr2>40])"
   ]
  },
  {
   "cell_type": "markdown",
   "id": "1e33d241",
   "metadata": {},
   "source": [
    "## Logical Operators"
   ]
  },
  {
   "cell_type": "code",
   "execution_count": 296,
   "id": "256d6888",
   "metadata": {},
   "outputs": [
    {
     "name": "stdout",
     "output_type": "stream",
     "text": [
      "apple    False\n",
      "mango     True\n",
      "pears    False\n",
      "Name: proteins, dtype: bool\n"
     ]
    }
   ],
   "source": [
    "print((arr2>50) & (arr2<65))"
   ]
  },
  {
   "cell_type": "code",
   "execution_count": 297,
   "id": "9bf5619b",
   "metadata": {},
   "outputs": [
    {
     "name": "stdout",
     "output_type": "stream",
     "text": [
      "apple    40\n",
      "mango    60\n",
      "Name: proteins, dtype: int64\n"
     ]
    }
   ],
   "source": [
    "print(arr2[(arr2>70) | (arr2<65)])"
   ]
  },
  {
   "cell_type": "code",
   "execution_count": 298,
   "id": "04aa9d16",
   "metadata": {},
   "outputs": [
    {
     "name": "stdout",
     "output_type": "stream",
     "text": [
      "apple    40\n",
      "mango    60\n",
      "Name: proteins, dtype: int64\n"
     ]
    }
   ],
   "source": [
    "print(arr2[~(arr2>60)])"
   ]
  },
  {
   "cell_type": "markdown",
   "id": "9f2d97c4",
   "metadata": {},
   "source": [
    "## Modifying the series"
   ]
  },
  {
   "cell_type": "code",
   "execution_count": 299,
   "id": "d5cd6a1a",
   "metadata": {},
   "outputs": [
    {
     "name": "stdout",
     "output_type": "stream",
     "text": [
      "apple    100\n",
      "mango     60\n",
      "pears     70\n",
      "Name: proteins, dtype: int64\n"
     ]
    }
   ],
   "source": [
    "arr2[\"apple\"]=100\n",
    "print(arr2)"
   ]
  },
  {
   "cell_type": "code",
   "execution_count": 300,
   "id": "198e7b74",
   "metadata": {},
   "outputs": [
    {
     "name": "stdout",
     "output_type": "stream",
     "text": [
      "3\n"
     ]
    }
   ],
   "source": [
    "ser=pd.Series(['a',np.nan,1,np.nan,2])\n",
    "print(ser.notnull().sum())"
   ]
  },
  {
   "cell_type": "markdown",
   "id": "7b4f0f08",
   "metadata": {},
   "source": [
    "## Data Frames"
   ]
  },
  {
   "cell_type": "code",
   "execution_count": 301,
   "id": "770ec2a1",
   "metadata": {},
   "outputs": [
    {
     "name": "stdout",
     "output_type": "stream",
     "text": [
      "            Name   age   Salary Department\n",
      "0          Rohan  23.0  45000.0   Frontend\n",
      "1          Mohan  36.0  60000.0    manager\n",
      "2  Sohan_Agarwal   NaN      NaN      Tusty\n",
      "3   Priya_sehgal  40.0  78000.0         HR\n"
     ]
    }
   ],
   "source": [
    "data = {\n",
    "    \"Name\":[\"Rohan\",\"Mohan\",\"Sohan_Agarwal\",\"Priya_sehgal\"],\n",
    "    \"age\":[23,36,np.nan,40],\n",
    "    \"Salary\":[45000,60000,np.nan,78000],\n",
    "    \"Department\":[\"Frontend\",\"manager\",\"Tusty\",\"HR\"]\n",
    "}\n",
    "df=pd.DataFrame(data)\n",
    "print(df)"
   ]
  },
  {
   "cell_type": "code",
   "execution_count": 302,
   "id": "fabd4a88",
   "metadata": {},
   "outputs": [
    {
     "data": {
      "text/html": [
       "<div>\n",
       "<style scoped>\n",
       "    .dataframe tbody tr th:only-of-type {\n",
       "        vertical-align: middle;\n",
       "    }\n",
       "\n",
       "    .dataframe tbody tr th {\n",
       "        vertical-align: top;\n",
       "    }\n",
       "\n",
       "    .dataframe thead th {\n",
       "        text-align: right;\n",
       "    }\n",
       "</style>\n",
       "<table border=\"1\" class=\"dataframe\">\n",
       "  <thead>\n",
       "    <tr style=\"text-align: right;\">\n",
       "      <th></th>\n",
       "      <th>Name</th>\n",
       "      <th>age</th>\n",
       "      <th>Salary</th>\n",
       "      <th>Department</th>\n",
       "    </tr>\n",
       "  </thead>\n",
       "  <tbody>\n",
       "    <tr>\n",
       "      <th>0</th>\n",
       "      <td>Rohan</td>\n",
       "      <td>23.0</td>\n",
       "      <td>45000.0</td>\n",
       "      <td>Frontend</td>\n",
       "    </tr>\n",
       "    <tr>\n",
       "      <th>1</th>\n",
       "      <td>Mohan</td>\n",
       "      <td>36.0</td>\n",
       "      <td>60000.0</td>\n",
       "      <td>manager</td>\n",
       "    </tr>\n",
       "  </tbody>\n",
       "</table>\n",
       "</div>"
      ],
      "text/plain": [
       "    Name   age   Salary Department\n",
       "0  Rohan  23.0  45000.0   Frontend\n",
       "1  Mohan  36.0  60000.0    manager"
      ]
     },
     "execution_count": 302,
     "metadata": {},
     "output_type": "execute_result"
    }
   ],
   "source": [
    "df.head(2) # print first two rows"
   ]
  },
  {
   "cell_type": "code",
   "execution_count": 303,
   "id": "41bf0c46",
   "metadata": {},
   "outputs": [
    {
     "data": {
      "text/html": [
       "<div>\n",
       "<style scoped>\n",
       "    .dataframe tbody tr th:only-of-type {\n",
       "        vertical-align: middle;\n",
       "    }\n",
       "\n",
       "    .dataframe tbody tr th {\n",
       "        vertical-align: top;\n",
       "    }\n",
       "\n",
       "    .dataframe thead th {\n",
       "        text-align: right;\n",
       "    }\n",
       "</style>\n",
       "<table border=\"1\" class=\"dataframe\">\n",
       "  <thead>\n",
       "    <tr style=\"text-align: right;\">\n",
       "      <th></th>\n",
       "      <th>Name</th>\n",
       "      <th>age</th>\n",
       "      <th>Salary</th>\n",
       "      <th>Department</th>\n",
       "    </tr>\n",
       "  </thead>\n",
       "  <tbody>\n",
       "    <tr>\n",
       "      <th>3</th>\n",
       "      <td>Priya_sehgal</td>\n",
       "      <td>40.0</td>\n",
       "      <td>78000.0</td>\n",
       "      <td>HR</td>\n",
       "    </tr>\n",
       "  </tbody>\n",
       "</table>\n",
       "</div>"
      ],
      "text/plain": [
       "           Name   age   Salary Department\n",
       "3  Priya_sehgal  40.0  78000.0         HR"
      ]
     },
     "execution_count": 303,
     "metadata": {},
     "output_type": "execute_result"
    }
   ],
   "source": [
    "df.tail(1) # print last row"
   ]
  },
  {
   "cell_type": "markdown",
   "id": "20b82df4",
   "metadata": {},
   "source": [
    "### loc and iloc"
   ]
  },
  {
   "cell_type": "code",
   "execution_count": 304,
   "id": "fafe13fe",
   "metadata": {},
   "outputs": [
    {
     "data": {
      "text/html": [
       "<div>\n",
       "<style scoped>\n",
       "    .dataframe tbody tr th:only-of-type {\n",
       "        vertical-align: middle;\n",
       "    }\n",
       "\n",
       "    .dataframe tbody tr th {\n",
       "        vertical-align: top;\n",
       "    }\n",
       "\n",
       "    .dataframe thead th {\n",
       "        text-align: right;\n",
       "    }\n",
       "</style>\n",
       "<table border=\"1\" class=\"dataframe\">\n",
       "  <thead>\n",
       "    <tr style=\"text-align: right;\">\n",
       "      <th></th>\n",
       "      <th>Name</th>\n",
       "      <th>age</th>\n",
       "      <th>Salary</th>\n",
       "      <th>Department</th>\n",
       "    </tr>\n",
       "  </thead>\n",
       "  <tbody>\n",
       "    <tr>\n",
       "      <th>0</th>\n",
       "      <td>Rohan</td>\n",
       "      <td>23.0</td>\n",
       "      <td>45000.0</td>\n",
       "      <td>Frontend</td>\n",
       "    </tr>\n",
       "    <tr>\n",
       "      <th>1</th>\n",
       "      <td>Mohan</td>\n",
       "      <td>36.0</td>\n",
       "      <td>60000.0</td>\n",
       "      <td>manager</td>\n",
       "    </tr>\n",
       "  </tbody>\n",
       "</table>\n",
       "</div>"
      ],
      "text/plain": [
       "    Name   age   Salary Department\n",
       "0  Rohan  23.0  45000.0   Frontend\n",
       "1  Mohan  36.0  60000.0    manager"
      ]
     },
     "execution_count": 304,
     "metadata": {},
     "output_type": "execute_result"
    }
   ],
   "source": [
    "df.iloc[0:2]"
   ]
  },
  {
   "cell_type": "code",
   "execution_count": 305,
   "id": "7432bc1c",
   "metadata": {},
   "outputs": [
    {
     "data": {
      "text/html": [
       "<div>\n",
       "<style scoped>\n",
       "    .dataframe tbody tr th:only-of-type {\n",
       "        vertical-align: middle;\n",
       "    }\n",
       "\n",
       "    .dataframe tbody tr th {\n",
       "        vertical-align: top;\n",
       "    }\n",
       "\n",
       "    .dataframe thead th {\n",
       "        text-align: right;\n",
       "    }\n",
       "</style>\n",
       "<table border=\"1\" class=\"dataframe\">\n",
       "  <thead>\n",
       "    <tr style=\"text-align: right;\">\n",
       "      <th></th>\n",
       "      <th>age</th>\n",
       "      <th>Department</th>\n",
       "    </tr>\n",
       "  </thead>\n",
       "  <tbody>\n",
       "    <tr>\n",
       "      <th>0</th>\n",
       "      <td>23.0</td>\n",
       "      <td>Frontend</td>\n",
       "    </tr>\n",
       "    <tr>\n",
       "      <th>1</th>\n",
       "      <td>36.0</td>\n",
       "      <td>manager</td>\n",
       "    </tr>\n",
       "    <tr>\n",
       "      <th>2</th>\n",
       "      <td>NaN</td>\n",
       "      <td>Tusty</td>\n",
       "    </tr>\n",
       "  </tbody>\n",
       "</table>\n",
       "</div>"
      ],
      "text/plain": [
       "    age Department\n",
       "0  23.0   Frontend\n",
       "1  36.0    manager\n",
       "2   NaN      Tusty"
      ]
     },
     "execution_count": 305,
     "metadata": {},
     "output_type": "execute_result"
    }
   ],
   "source": [
    "df.loc[0:2,[\"age\",\"Department\"]]"
   ]
  },
  {
   "cell_type": "code",
   "execution_count": 306,
   "id": "2b79c210",
   "metadata": {},
   "outputs": [
    {
     "data": {
      "text/html": [
       "<div>\n",
       "<style scoped>\n",
       "    .dataframe tbody tr th:only-of-type {\n",
       "        vertical-align: middle;\n",
       "    }\n",
       "\n",
       "    .dataframe tbody tr th {\n",
       "        vertical-align: top;\n",
       "    }\n",
       "\n",
       "    .dataframe thead th {\n",
       "        text-align: right;\n",
       "    }\n",
       "</style>\n",
       "<table border=\"1\" class=\"dataframe\">\n",
       "  <thead>\n",
       "    <tr style=\"text-align: right;\">\n",
       "      <th></th>\n",
       "      <th>Name</th>\n",
       "      <th>age</th>\n",
       "    </tr>\n",
       "  </thead>\n",
       "  <tbody>\n",
       "    <tr>\n",
       "      <th>0</th>\n",
       "      <td>Rohan</td>\n",
       "      <td>23.0</td>\n",
       "    </tr>\n",
       "    <tr>\n",
       "      <th>1</th>\n",
       "      <td>Mohan</td>\n",
       "      <td>36.0</td>\n",
       "    </tr>\n",
       "  </tbody>\n",
       "</table>\n",
       "</div>"
      ],
      "text/plain": [
       "    Name   age\n",
       "0  Rohan  23.0\n",
       "1  Mohan  36.0"
      ]
     },
     "execution_count": 306,
     "metadata": {},
     "output_type": "execute_result"
    }
   ],
   "source": [
    "df.iloc[0:2,:2]"
   ]
  },
  {
   "cell_type": "code",
   "execution_count": 307,
   "id": "683736d6",
   "metadata": {},
   "outputs": [
    {
     "data": {
      "text/html": [
       "<div>\n",
       "<style scoped>\n",
       "    .dataframe tbody tr th:only-of-type {\n",
       "        vertical-align: middle;\n",
       "    }\n",
       "\n",
       "    .dataframe tbody tr th {\n",
       "        vertical-align: top;\n",
       "    }\n",
       "\n",
       "    .dataframe thead th {\n",
       "        text-align: right;\n",
       "    }\n",
       "</style>\n",
       "<table border=\"1\" class=\"dataframe\">\n",
       "  <thead>\n",
       "    <tr style=\"text-align: right;\">\n",
       "      <th></th>\n",
       "      <th>age</th>\n",
       "      <th>Name</th>\n",
       "    </tr>\n",
       "  </thead>\n",
       "  <tbody>\n",
       "    <tr>\n",
       "      <th>0</th>\n",
       "      <td>23.0</td>\n",
       "      <td>Rohan</td>\n",
       "    </tr>\n",
       "    <tr>\n",
       "      <th>1</th>\n",
       "      <td>36.0</td>\n",
       "      <td>Mohan</td>\n",
       "    </tr>\n",
       "    <tr>\n",
       "      <th>2</th>\n",
       "      <td>NaN</td>\n",
       "      <td>Sohan_Agarwal</td>\n",
       "    </tr>\n",
       "    <tr>\n",
       "      <th>3</th>\n",
       "      <td>40.0</td>\n",
       "      <td>Priya_sehgal</td>\n",
       "    </tr>\n",
       "  </tbody>\n",
       "</table>\n",
       "</div>"
      ],
      "text/plain": [
       "    age           Name\n",
       "0  23.0          Rohan\n",
       "1  36.0          Mohan\n",
       "2   NaN  Sohan_Agarwal\n",
       "3  40.0   Priya_sehgal"
      ]
     },
     "execution_count": 307,
     "metadata": {},
     "output_type": "execute_result"
    }
   ],
   "source": [
    "df[[\"age\",\"Name\"]]"
   ]
  },
  {
   "cell_type": "markdown",
   "id": "88f448a5",
   "metadata": {},
   "source": [
    "## To delete row / column"
   ]
  },
  {
   "cell_type": "code",
   "execution_count": 308,
   "id": "aa75a3e8",
   "metadata": {},
   "outputs": [
    {
     "data": {
      "text/html": [
       "<div>\n",
       "<style scoped>\n",
       "    .dataframe tbody tr th:only-of-type {\n",
       "        vertical-align: middle;\n",
       "    }\n",
       "\n",
       "    .dataframe tbody tr th {\n",
       "        vertical-align: top;\n",
       "    }\n",
       "\n",
       "    .dataframe thead th {\n",
       "        text-align: right;\n",
       "    }\n",
       "</style>\n",
       "<table border=\"1\" class=\"dataframe\">\n",
       "  <thead>\n",
       "    <tr style=\"text-align: right;\">\n",
       "      <th></th>\n",
       "      <th>Name</th>\n",
       "      <th>Salary</th>\n",
       "      <th>Department</th>\n",
       "    </tr>\n",
       "  </thead>\n",
       "  <tbody>\n",
       "    <tr>\n",
       "      <th>0</th>\n",
       "      <td>Rohan</td>\n",
       "      <td>45000.0</td>\n",
       "      <td>Frontend</td>\n",
       "    </tr>\n",
       "    <tr>\n",
       "      <th>1</th>\n",
       "      <td>Mohan</td>\n",
       "      <td>60000.0</td>\n",
       "      <td>manager</td>\n",
       "    </tr>\n",
       "    <tr>\n",
       "      <th>2</th>\n",
       "      <td>Sohan_Agarwal</td>\n",
       "      <td>NaN</td>\n",
       "      <td>Tusty</td>\n",
       "    </tr>\n",
       "    <tr>\n",
       "      <th>3</th>\n",
       "      <td>Priya_sehgal</td>\n",
       "      <td>78000.0</td>\n",
       "      <td>HR</td>\n",
       "    </tr>\n",
       "  </tbody>\n",
       "</table>\n",
       "</div>"
      ],
      "text/plain": [
       "            Name   Salary Department\n",
       "0          Rohan  45000.0   Frontend\n",
       "1          Mohan  60000.0    manager\n",
       "2  Sohan_Agarwal      NaN      Tusty\n",
       "3   Priya_sehgal  78000.0         HR"
      ]
     },
     "execution_count": 308,
     "metadata": {},
     "output_type": "execute_result"
    }
   ],
   "source": [
    "df.drop(\"age\",axis=1)"
   ]
  },
  {
   "cell_type": "code",
   "execution_count": 309,
   "id": "9db85be9",
   "metadata": {},
   "outputs": [
    {
     "data": {
      "text/html": [
       "<div>\n",
       "<style scoped>\n",
       "    .dataframe tbody tr th:only-of-type {\n",
       "        vertical-align: middle;\n",
       "    }\n",
       "\n",
       "    .dataframe tbody tr th {\n",
       "        vertical-align: top;\n",
       "    }\n",
       "\n",
       "    .dataframe thead th {\n",
       "        text-align: right;\n",
       "    }\n",
       "</style>\n",
       "<table border=\"1\" class=\"dataframe\">\n",
       "  <thead>\n",
       "    <tr style=\"text-align: right;\">\n",
       "      <th></th>\n",
       "      <th>Name</th>\n",
       "      <th>age</th>\n",
       "      <th>Salary</th>\n",
       "      <th>Department</th>\n",
       "    </tr>\n",
       "  </thead>\n",
       "  <tbody>\n",
       "    <tr>\n",
       "      <th>0</th>\n",
       "      <td>Rohan</td>\n",
       "      <td>23.0</td>\n",
       "      <td>45000.0</td>\n",
       "      <td>Frontend</td>\n",
       "    </tr>\n",
       "    <tr>\n",
       "      <th>1</th>\n",
       "      <td>Mohan</td>\n",
       "      <td>36.0</td>\n",
       "      <td>60000.0</td>\n",
       "      <td>manager</td>\n",
       "    </tr>\n",
       "    <tr>\n",
       "      <th>2</th>\n",
       "      <td>Sohan_Agarwal</td>\n",
       "      <td>NaN</td>\n",
       "      <td>NaN</td>\n",
       "      <td>Tusty</td>\n",
       "    </tr>\n",
       "    <tr>\n",
       "      <th>3</th>\n",
       "      <td>Priya_sehgal</td>\n",
       "      <td>40.0</td>\n",
       "      <td>78000.0</td>\n",
       "      <td>HR</td>\n",
       "    </tr>\n",
       "  </tbody>\n",
       "</table>\n",
       "</div>"
      ],
      "text/plain": [
       "            Name   age   Salary Department\n",
       "0          Rohan  23.0  45000.0   Frontend\n",
       "1          Mohan  36.0  60000.0    manager\n",
       "2  Sohan_Agarwal   NaN      NaN      Tusty\n",
       "3   Priya_sehgal  40.0  78000.0         HR"
      ]
     },
     "execution_count": 309,
     "metadata": {},
     "output_type": "execute_result"
    }
   ],
   "source": [
    "df"
   ]
  },
  {
   "cell_type": "markdown",
   "id": "1cbc1d1d",
   "metadata": {},
   "source": [
    "* To delete row permanently we have to give this command\n",
    "\n",
    "df.drop(\"age\",axis=1, inplace =True)"
   ]
  },
  {
   "cell_type": "code",
   "execution_count": 310,
   "id": "c2b519a2",
   "metadata": {},
   "outputs": [
    {
     "data": {
      "text/plain": [
       "(4, 4)"
      ]
     },
     "execution_count": 310,
     "metadata": {},
     "output_type": "execute_result"
    }
   ],
   "source": [
    "df.shape"
   ]
  },
  {
   "cell_type": "code",
   "execution_count": 311,
   "id": "c1f013f4",
   "metadata": {},
   "outputs": [
    {
     "name": "stdout",
     "output_type": "stream",
     "text": [
      "<class 'pandas.core.frame.DataFrame'>\n",
      "RangeIndex: 4 entries, 0 to 3\n",
      "Data columns (total 4 columns):\n",
      " #   Column      Non-Null Count  Dtype  \n",
      "---  ------      --------------  -----  \n",
      " 0   Name        4 non-null      object \n",
      " 1   age         3 non-null      float64\n",
      " 2   Salary      3 non-null      float64\n",
      " 3   Department  4 non-null      object \n",
      "dtypes: float64(2), object(2)\n",
      "memory usage: 260.0+ bytes\n"
     ]
    }
   ],
   "source": [
    "df.info()"
   ]
  },
  {
   "cell_type": "code",
   "execution_count": 312,
   "id": "9232d995",
   "metadata": {},
   "outputs": [
    {
     "data": {
      "text/html": [
       "<div>\n",
       "<style scoped>\n",
       "    .dataframe tbody tr th:only-of-type {\n",
       "        vertical-align: middle;\n",
       "    }\n",
       "\n",
       "    .dataframe tbody tr th {\n",
       "        vertical-align: top;\n",
       "    }\n",
       "\n",
       "    .dataframe thead th {\n",
       "        text-align: right;\n",
       "    }\n",
       "</style>\n",
       "<table border=\"1\" class=\"dataframe\">\n",
       "  <thead>\n",
       "    <tr style=\"text-align: right;\">\n",
       "      <th></th>\n",
       "      <th>age</th>\n",
       "      <th>Salary</th>\n",
       "    </tr>\n",
       "  </thead>\n",
       "  <tbody>\n",
       "    <tr>\n",
       "      <th>count</th>\n",
       "      <td>3.000000</td>\n",
       "      <td>3.000000</td>\n",
       "    </tr>\n",
       "    <tr>\n",
       "      <th>mean</th>\n",
       "      <td>33.000000</td>\n",
       "      <td>61000.000000</td>\n",
       "    </tr>\n",
       "    <tr>\n",
       "      <th>std</th>\n",
       "      <td>8.888194</td>\n",
       "      <td>16522.711642</td>\n",
       "    </tr>\n",
       "    <tr>\n",
       "      <th>min</th>\n",
       "      <td>23.000000</td>\n",
       "      <td>45000.000000</td>\n",
       "    </tr>\n",
       "    <tr>\n",
       "      <th>25%</th>\n",
       "      <td>29.500000</td>\n",
       "      <td>52500.000000</td>\n",
       "    </tr>\n",
       "    <tr>\n",
       "      <th>50%</th>\n",
       "      <td>36.000000</td>\n",
       "      <td>60000.000000</td>\n",
       "    </tr>\n",
       "    <tr>\n",
       "      <th>75%</th>\n",
       "      <td>38.000000</td>\n",
       "      <td>69000.000000</td>\n",
       "    </tr>\n",
       "    <tr>\n",
       "      <th>max</th>\n",
       "      <td>40.000000</td>\n",
       "      <td>78000.000000</td>\n",
       "    </tr>\n",
       "  </tbody>\n",
       "</table>\n",
       "</div>"
      ],
      "text/plain": [
       "             age        Salary\n",
       "count   3.000000      3.000000\n",
       "mean   33.000000  61000.000000\n",
       "std     8.888194  16522.711642\n",
       "min    23.000000  45000.000000\n",
       "25%    29.500000  52500.000000\n",
       "50%    36.000000  60000.000000\n",
       "75%    38.000000  69000.000000\n",
       "max    40.000000  78000.000000"
      ]
     },
     "execution_count": 312,
     "metadata": {},
     "output_type": "execute_result"
    }
   ],
   "source": [
    "df.describe()"
   ]
  },
  {
   "cell_type": "markdown",
   "id": "60b4772f",
   "metadata": {},
   "source": [
    "## Broadcasting\n"
   ]
  },
  {
   "cell_type": "code",
   "execution_count": 313,
   "id": "0d77ef46",
   "metadata": {},
   "outputs": [
    {
     "name": "stdout",
     "output_type": "stream",
     "text": [
      "0    45000.0\n",
      "1    60000.0\n",
      "2        NaN\n",
      "3    78000.0\n",
      "Name: Salary, dtype: float64\n",
      "0    55000.0\n",
      "1    70000.0\n",
      "2        NaN\n",
      "3    88000.0\n",
      "Name: Salary, dtype: float64\n"
     ]
    }
   ],
   "source": [
    "print(df[\"Salary\"])\n",
    "df[\"Salary\"]=df[\"Salary\"] + 10000\n",
    "print(df[\"Salary\"])"
   ]
  },
  {
   "cell_type": "markdown",
   "id": "95f01e44",
   "metadata": {},
   "source": [
    "## Renaming columns"
   ]
  },
  {
   "cell_type": "code",
   "execution_count": 314,
   "id": "67199e01",
   "metadata": {},
   "outputs": [
    {
     "data": {
      "text/html": [
       "<div>\n",
       "<style scoped>\n",
       "    .dataframe tbody tr th:only-of-type {\n",
       "        vertical-align: middle;\n",
       "    }\n",
       "\n",
       "    .dataframe tbody tr th {\n",
       "        vertical-align: top;\n",
       "    }\n",
       "\n",
       "    .dataframe thead th {\n",
       "        text-align: right;\n",
       "    }\n",
       "</style>\n",
       "<table border=\"1\" class=\"dataframe\">\n",
       "  <thead>\n",
       "    <tr style=\"text-align: right;\">\n",
       "      <th></th>\n",
       "      <th>Name</th>\n",
       "      <th>age</th>\n",
       "      <th>Salary</th>\n",
       "      <th>Dept</th>\n",
       "    </tr>\n",
       "  </thead>\n",
       "  <tbody>\n",
       "    <tr>\n",
       "      <th>0</th>\n",
       "      <td>Rohan</td>\n",
       "      <td>23.0</td>\n",
       "      <td>55000.0</td>\n",
       "      <td>Frontend</td>\n",
       "    </tr>\n",
       "    <tr>\n",
       "      <th>1</th>\n",
       "      <td>Mohan</td>\n",
       "      <td>36.0</td>\n",
       "      <td>70000.0</td>\n",
       "      <td>manager</td>\n",
       "    </tr>\n",
       "    <tr>\n",
       "      <th>2</th>\n",
       "      <td>Sohan_Agarwal</td>\n",
       "      <td>NaN</td>\n",
       "      <td>NaN</td>\n",
       "      <td>Tusty</td>\n",
       "    </tr>\n",
       "    <tr>\n",
       "      <th>3</th>\n",
       "      <td>Priya_sehgal</td>\n",
       "      <td>40.0</td>\n",
       "      <td>88000.0</td>\n",
       "      <td>HR</td>\n",
       "    </tr>\n",
       "  </tbody>\n",
       "</table>\n",
       "</div>"
      ],
      "text/plain": [
       "            Name   age   Salary      Dept\n",
       "0          Rohan  23.0  55000.0  Frontend\n",
       "1          Mohan  36.0  70000.0   manager\n",
       "2  Sohan_Agarwal   NaN      NaN     Tusty\n",
       "3   Priya_sehgal  40.0  88000.0        HR"
      ]
     },
     "execution_count": 314,
     "metadata": {},
     "output_type": "execute_result"
    }
   ],
   "source": [
    "df.rename(columns={\"Department\":\"Dept\"},inplace=True)\n",
    "df"
   ]
  },
  {
   "cell_type": "code",
   "execution_count": 315,
   "id": "9324b6a5",
   "metadata": {},
   "outputs": [
    {
     "data": {
      "text/plain": [
       "array([55000., 70000.,    nan, 88000.])"
      ]
     },
     "execution_count": 315,
     "metadata": {},
     "output_type": "execute_result"
    }
   ],
   "source": [
    "df[\"Salary\"].unique()"
   ]
  },
  {
   "cell_type": "code",
   "execution_count": 316,
   "id": "35678307",
   "metadata": {},
   "outputs": [
    {
     "data": {
      "text/plain": [
       "Dept\n",
       "Frontend    1\n",
       "manager     1\n",
       "Tusty       1\n",
       "HR          1\n",
       "Name: count, dtype: int64"
      ]
     },
     "execution_count": 316,
     "metadata": {},
     "output_type": "execute_result"
    }
   ],
   "source": [
    "df[\"Dept\"].value_counts()"
   ]
  },
  {
   "cell_type": "code",
   "execution_count": 317,
   "id": "74e0123c",
   "metadata": {},
   "outputs": [
    {
     "data": {
      "text/html": [
       "<div>\n",
       "<style scoped>\n",
       "    .dataframe tbody tr th:only-of-type {\n",
       "        vertical-align: middle;\n",
       "    }\n",
       "\n",
       "    .dataframe tbody tr th {\n",
       "        vertical-align: top;\n",
       "    }\n",
       "\n",
       "    .dataframe thead th {\n",
       "        text-align: right;\n",
       "    }\n",
       "</style>\n",
       "<table border=\"1\" class=\"dataframe\">\n",
       "  <thead>\n",
       "    <tr style=\"text-align: right;\">\n",
       "      <th></th>\n",
       "      <th>Name</th>\n",
       "      <th>age</th>\n",
       "      <th>Salary</th>\n",
       "      <th>Dept</th>\n",
       "      <th>Promoted Salary</th>\n",
       "    </tr>\n",
       "  </thead>\n",
       "  <tbody>\n",
       "    <tr>\n",
       "      <th>0</th>\n",
       "      <td>Rohan</td>\n",
       "      <td>23.0</td>\n",
       "      <td>55000.0</td>\n",
       "      <td>Frontend</td>\n",
       "      <td>550000.0</td>\n",
       "    </tr>\n",
       "    <tr>\n",
       "      <th>1</th>\n",
       "      <td>Mohan</td>\n",
       "      <td>36.0</td>\n",
       "      <td>70000.0</td>\n",
       "      <td>manager</td>\n",
       "      <td>700000.0</td>\n",
       "    </tr>\n",
       "    <tr>\n",
       "      <th>2</th>\n",
       "      <td>Sohan_Agarwal</td>\n",
       "      <td>NaN</td>\n",
       "      <td>NaN</td>\n",
       "      <td>Tusty</td>\n",
       "      <td>NaN</td>\n",
       "    </tr>\n",
       "    <tr>\n",
       "      <th>3</th>\n",
       "      <td>Priya_sehgal</td>\n",
       "      <td>40.0</td>\n",
       "      <td>88000.0</td>\n",
       "      <td>HR</td>\n",
       "      <td>880000.0</td>\n",
       "    </tr>\n",
       "  </tbody>\n",
       "</table>\n",
       "</div>"
      ],
      "text/plain": [
       "            Name   age   Salary      Dept  Promoted Salary\n",
       "0          Rohan  23.0  55000.0  Frontend         550000.0\n",
       "1          Mohan  36.0  70000.0   manager         700000.0\n",
       "2  Sohan_Agarwal   NaN      NaN     Tusty              NaN\n",
       "3   Priya_sehgal  40.0  88000.0        HR         880000.0"
      ]
     },
     "execution_count": 317,
     "metadata": {},
     "output_type": "execute_result"
    }
   ],
   "source": [
    "df[\"Promoted Salary\"]=df[\"Salary\"]*10\n",
    "df"
   ]
  },
  {
   "cell_type": "markdown",
   "id": "deb826bc",
   "metadata": {},
   "source": [
    "## Data cleaning"
   ]
  },
  {
   "cell_type": "code",
   "execution_count": 318,
   "id": "0f045391",
   "metadata": {},
   "outputs": [
    {
     "data": {
      "text/plain": [
       "Name               0\n",
       "age                1\n",
       "Salary             1\n",
       "Dept               0\n",
       "Promoted Salary    1\n",
       "dtype: int64"
      ]
     },
     "execution_count": 318,
     "metadata": {},
     "output_type": "execute_result"
    }
   ],
   "source": [
    "df.isnull().sum()\n"
   ]
  },
  {
   "cell_type": "code",
   "execution_count": 319,
   "id": "bd66875e",
   "metadata": {},
   "outputs": [
    {
     "data": {
      "text/html": [
       "<div>\n",
       "<style scoped>\n",
       "    .dataframe tbody tr th:only-of-type {\n",
       "        vertical-align: middle;\n",
       "    }\n",
       "\n",
       "    .dataframe tbody tr th {\n",
       "        vertical-align: top;\n",
       "    }\n",
       "\n",
       "    .dataframe thead th {\n",
       "        text-align: right;\n",
       "    }\n",
       "</style>\n",
       "<table border=\"1\" class=\"dataframe\">\n",
       "  <thead>\n",
       "    <tr style=\"text-align: right;\">\n",
       "      <th></th>\n",
       "      <th>Name</th>\n",
       "      <th>age</th>\n",
       "      <th>Salary</th>\n",
       "      <th>Dept</th>\n",
       "      <th>Promoted Salary</th>\n",
       "    </tr>\n",
       "  </thead>\n",
       "  <tbody>\n",
       "    <tr>\n",
       "      <th>0</th>\n",
       "      <td>Rohan</td>\n",
       "      <td>23.0</td>\n",
       "      <td>55000.0</td>\n",
       "      <td>Frontend</td>\n",
       "      <td>550000.0</td>\n",
       "    </tr>\n",
       "    <tr>\n",
       "      <th>1</th>\n",
       "      <td>Mohan</td>\n",
       "      <td>36.0</td>\n",
       "      <td>70000.0</td>\n",
       "      <td>manager</td>\n",
       "      <td>700000.0</td>\n",
       "    </tr>\n",
       "    <tr>\n",
       "      <th>3</th>\n",
       "      <td>Priya_sehgal</td>\n",
       "      <td>40.0</td>\n",
       "      <td>88000.0</td>\n",
       "      <td>HR</td>\n",
       "      <td>880000.0</td>\n",
       "    </tr>\n",
       "  </tbody>\n",
       "</table>\n",
       "</div>"
      ],
      "text/plain": [
       "           Name   age   Salary      Dept  Promoted Salary\n",
       "0         Rohan  23.0  55000.0  Frontend         550000.0\n",
       "1         Mohan  36.0  70000.0   manager         700000.0\n",
       "3  Priya_sehgal  40.0  88000.0        HR         880000.0"
      ]
     },
     "execution_count": 319,
     "metadata": {},
     "output_type": "execute_result"
    }
   ],
   "source": [
    "df.dropna()\n",
    "#df.dropna(inplace=true) make chages in original dataframe"
   ]
  },
  {
   "cell_type": "code",
   "execution_count": 320,
   "id": "1cbb2600",
   "metadata": {},
   "outputs": [
    {
     "data": {
      "text/html": [
       "<div>\n",
       "<style scoped>\n",
       "    .dataframe tbody tr th:only-of-type {\n",
       "        vertical-align: middle;\n",
       "    }\n",
       "\n",
       "    .dataframe tbody tr th {\n",
       "        vertical-align: top;\n",
       "    }\n",
       "\n",
       "    .dataframe thead th {\n",
       "        text-align: right;\n",
       "    }\n",
       "</style>\n",
       "<table border=\"1\" class=\"dataframe\">\n",
       "  <thead>\n",
       "    <tr style=\"text-align: right;\">\n",
       "      <th></th>\n",
       "      <th>Name</th>\n",
       "      <th>age</th>\n",
       "      <th>Salary</th>\n",
       "      <th>Dept</th>\n",
       "      <th>Promoted Salary</th>\n",
       "    </tr>\n",
       "  </thead>\n",
       "  <tbody>\n",
       "    <tr>\n",
       "      <th>0</th>\n",
       "      <td>Rohan</td>\n",
       "      <td>23.0</td>\n",
       "      <td>55000.0</td>\n",
       "      <td>Frontend</td>\n",
       "      <td>550000.0</td>\n",
       "    </tr>\n",
       "    <tr>\n",
       "      <th>1</th>\n",
       "      <td>Mohan</td>\n",
       "      <td>36.0</td>\n",
       "      <td>70000.0</td>\n",
       "      <td>manager</td>\n",
       "      <td>700000.0</td>\n",
       "    </tr>\n",
       "    <tr>\n",
       "      <th>2</th>\n",
       "      <td>Sohan_Agarwal</td>\n",
       "      <td>NaN</td>\n",
       "      <td>NaN</td>\n",
       "      <td>Tusty</td>\n",
       "      <td>NaN</td>\n",
       "    </tr>\n",
       "    <tr>\n",
       "      <th>3</th>\n",
       "      <td>Priya_sehgal</td>\n",
       "      <td>40.0</td>\n",
       "      <td>88000.0</td>\n",
       "      <td>HR</td>\n",
       "      <td>880000.0</td>\n",
       "    </tr>\n",
       "  </tbody>\n",
       "</table>\n",
       "</div>"
      ],
      "text/plain": [
       "            Name   age   Salary      Dept  Promoted Salary\n",
       "0          Rohan  23.0  55000.0  Frontend         550000.0\n",
       "1          Mohan  36.0  70000.0   manager         700000.0\n",
       "2  Sohan_Agarwal   NaN      NaN     Tusty              NaN\n",
       "3   Priya_sehgal  40.0  88000.0        HR         880000.0"
      ]
     },
     "execution_count": 320,
     "metadata": {},
     "output_type": "execute_result"
    }
   ],
   "source": [
    "df"
   ]
  },
  {
   "cell_type": "markdown",
   "id": "f4f5f8c3",
   "metadata": {},
   "source": [
    "## To fill NaN value in DataFrame"
   ]
  },
  {
   "cell_type": "code",
   "execution_count": 321,
   "id": "6c492e2d",
   "metadata": {},
   "outputs": [
    {
     "data": {
      "text/plain": [
       "0    23.0\n",
       "1    36.0\n",
       "2    36.0\n",
       "3    40.0\n",
       "Name: age, dtype: float64"
      ]
     },
     "execution_count": 321,
     "metadata": {},
     "output_type": "execute_result"
    }
   ],
   "source": [
    "df[\"age\"].fillna(df[\"age\"].median())"
   ]
  },
  {
   "cell_type": "markdown",
   "id": "a0eba81a",
   "metadata": {},
   "source": [
    "### Forward fill"
   ]
  },
  {
   "cell_type": "code",
   "execution_count": 322,
   "id": "d3234166",
   "metadata": {},
   "outputs": [
    {
     "data": {
      "text/plain": [
       "0    23.0\n",
       "1    36.0\n",
       "2    36.0\n",
       "3    40.0\n",
       "Name: age, dtype: float64"
      ]
     },
     "execution_count": 322,
     "metadata": {},
     "output_type": "execute_result"
    }
   ],
   "source": [
    "df[\"age\"].ffill()"
   ]
  },
  {
   "cell_type": "markdown",
   "id": "d0ab46d8",
   "metadata": {},
   "source": [
    "### Backward fill"
   ]
  },
  {
   "cell_type": "code",
   "execution_count": 323,
   "id": "94de95da",
   "metadata": {},
   "outputs": [
    {
     "data": {
      "text/plain": [
       "0    23.0\n",
       "1    36.0\n",
       "2    40.0\n",
       "3    40.0\n",
       "Name: age, dtype: float64"
      ]
     },
     "execution_count": 323,
     "metadata": {},
     "output_type": "execute_result"
    }
   ],
   "source": [
    "df[\"age\"].bfill()"
   ]
  },
  {
   "cell_type": "markdown",
   "id": "53e007ad",
   "metadata": {},
   "source": [
    "## Edit elements of a row"
   ]
  },
  {
   "cell_type": "code",
   "execution_count": 324,
   "id": "3a140d25",
   "metadata": {},
   "outputs": [
    {
     "name": "stdout",
     "output_type": "stream",
     "text": [
      "            Name   age   Salary      Dept  Promoted Salary\n",
      "0          Rohan  23.0  55000.0  Frontend         550000.0\n",
      "1          Mohan  36.0  70000.0   manager         700000.0\n",
      "2  Sohan_Agarwal   NaN      NaN     Tusty              NaN\n",
      "3   Priya_sehgal  40.0  88000.0        HR         880000.0\n",
      "\n",
      "\n",
      "\n",
      "            Name   age   Salary      Dept  Promoted Salary\n",
      "0            Ram  23.0  55000.0  Frontend         550000.0\n",
      "1          Mohan  36.0  70000.0   manager         700000.0\n",
      "2  Sohan_Agarwal   NaN      NaN     Tusty              NaN\n",
      "3   Priya_sehgal  40.0  88000.0        HR         880000.0\n"
     ]
    }
   ],
   "source": [
    "print(df)\n",
    "print(\"\\n\\n\")\n",
    "\n",
    "df[\"Name\"]=df[\"Name\"].replace(\"Rohan\",\"Ram\")\n",
    "print(df)"
   ]
  },
  {
   "cell_type": "markdown",
   "id": "ddb0888f",
   "metadata": {},
   "source": [
    "## Lambda function"
   ]
  },
  {
   "cell_type": "code",
   "execution_count": 325,
   "id": "dd5ee8e9",
   "metadata": {},
   "outputs": [
    {
     "data": {
      "text/html": [
       "<div>\n",
       "<style scoped>\n",
       "    .dataframe tbody tr th:only-of-type {\n",
       "        vertical-align: middle;\n",
       "    }\n",
       "\n",
       "    .dataframe tbody tr th {\n",
       "        vertical-align: top;\n",
       "    }\n",
       "\n",
       "    .dataframe thead th {\n",
       "        text-align: right;\n",
       "    }\n",
       "</style>\n",
       "<table border=\"1\" class=\"dataframe\">\n",
       "  <thead>\n",
       "    <tr style=\"text-align: right;\">\n",
       "      <th></th>\n",
       "      <th>Name</th>\n",
       "      <th>age</th>\n",
       "      <th>Salary</th>\n",
       "      <th>Dept</th>\n",
       "      <th>Promoted Salary</th>\n",
       "    </tr>\n",
       "  </thead>\n",
       "  <tbody>\n",
       "    <tr>\n",
       "      <th>0</th>\n",
       "      <td>Ram</td>\n",
       "      <td>23.0</td>\n",
       "      <td>55000.0</td>\n",
       "      <td>Frontend</td>\n",
       "      <td>550000.0</td>\n",
       "    </tr>\n",
       "    <tr>\n",
       "      <th>1</th>\n",
       "      <td>Mohan</td>\n",
       "      <td>36.0</td>\n",
       "      <td>70000.0</td>\n",
       "      <td>manager</td>\n",
       "      <td>700.0</td>\n",
       "    </tr>\n",
       "    <tr>\n",
       "      <th>2</th>\n",
       "      <td>Sohan_Agarwal</td>\n",
       "      <td>NaN</td>\n",
       "      <td>NaN</td>\n",
       "      <td>Tusty</td>\n",
       "      <td>NaN</td>\n",
       "    </tr>\n",
       "    <tr>\n",
       "      <th>3</th>\n",
       "      <td>Priya_sehgal</td>\n",
       "      <td>40.0</td>\n",
       "      <td>88000.0</td>\n",
       "      <td>HR</td>\n",
       "      <td>880.0</td>\n",
       "    </tr>\n",
       "  </tbody>\n",
       "</table>\n",
       "</div>"
      ],
      "text/plain": [
       "            Name   age   Salary      Dept  Promoted Salary\n",
       "0            Ram  23.0  55000.0  Frontend         550000.0\n",
       "1          Mohan  36.0  70000.0   manager            700.0\n",
       "2  Sohan_Agarwal   NaN      NaN     Tusty              NaN\n",
       "3   Priya_sehgal  40.0  88000.0        HR            880.0"
      ]
     },
     "execution_count": 325,
     "metadata": {},
     "output_type": "execute_result"
    }
   ],
   "source": [
    "df[\"Promoted Salary\"] = df[\"Promoted Salary\"].apply(lambda x: x/1000 if x > 650000 else x) \n",
    "df"
   ]
  },
  {
   "cell_type": "code",
   "execution_count": 326,
   "id": "4a0afb6f",
   "metadata": {},
   "outputs": [
    {
     "data": {
      "text/html": [
       "<div>\n",
       "<style scoped>\n",
       "    .dataframe tbody tr th:only-of-type {\n",
       "        vertical-align: middle;\n",
       "    }\n",
       "\n",
       "    .dataframe tbody tr th {\n",
       "        vertical-align: top;\n",
       "    }\n",
       "\n",
       "    .dataframe thead th {\n",
       "        text-align: right;\n",
       "    }\n",
       "</style>\n",
       "<table border=\"1\" class=\"dataframe\">\n",
       "  <thead>\n",
       "    <tr style=\"text-align: right;\">\n",
       "      <th></th>\n",
       "      <th>Name</th>\n",
       "      <th>age</th>\n",
       "      <th>Salary</th>\n",
       "      <th>Dept</th>\n",
       "      <th>Promoted Salary</th>\n",
       "      <th>firs_Name</th>\n",
       "      <th>last_Name</th>\n",
       "    </tr>\n",
       "  </thead>\n",
       "  <tbody>\n",
       "    <tr>\n",
       "      <th>0</th>\n",
       "      <td>Ram</td>\n",
       "      <td>23.0</td>\n",
       "      <td>55000.0</td>\n",
       "      <td>Frontend</td>\n",
       "      <td>550000.0</td>\n",
       "      <td>Ram</td>\n",
       "      <td>None</td>\n",
       "    </tr>\n",
       "    <tr>\n",
       "      <th>1</th>\n",
       "      <td>Mohan</td>\n",
       "      <td>36.0</td>\n",
       "      <td>70000.0</td>\n",
       "      <td>manager</td>\n",
       "      <td>700.0</td>\n",
       "      <td>Mohan</td>\n",
       "      <td>None</td>\n",
       "    </tr>\n",
       "    <tr>\n",
       "      <th>2</th>\n",
       "      <td>Sohan_Agarwal</td>\n",
       "      <td>NaN</td>\n",
       "      <td>NaN</td>\n",
       "      <td>Tusty</td>\n",
       "      <td>NaN</td>\n",
       "      <td>Sohan</td>\n",
       "      <td>Agarwal</td>\n",
       "    </tr>\n",
       "    <tr>\n",
       "      <th>3</th>\n",
       "      <td>Priya_sehgal</td>\n",
       "      <td>40.0</td>\n",
       "      <td>88000.0</td>\n",
       "      <td>HR</td>\n",
       "      <td>880.0</td>\n",
       "      <td>Priya</td>\n",
       "      <td>sehgal</td>\n",
       "    </tr>\n",
       "  </tbody>\n",
       "</table>\n",
       "</div>"
      ],
      "text/plain": [
       "            Name   age   Salary      Dept  Promoted Salary firs_Name last_Name\n",
       "0            Ram  23.0  55000.0  Frontend         550000.0       Ram      None\n",
       "1          Mohan  36.0  70000.0   manager            700.0     Mohan      None\n",
       "2  Sohan_Agarwal   NaN      NaN     Tusty              NaN     Sohan   Agarwal\n",
       "3   Priya_sehgal  40.0  88000.0        HR            880.0     Priya    sehgal"
      ]
     },
     "execution_count": 326,
     "metadata": {},
     "output_type": "execute_result"
    }
   ],
   "source": [
    "df[[\"firs_Name\",\"last_Name\"]]=df[\"Name\"].str.split(\"_\", expand=True)\n",
    "df"
   ]
  },
  {
   "cell_type": "code",
   "execution_count": 328,
   "id": "08e0671c",
   "metadata": {},
   "outputs": [
    {
     "data": {
      "text/html": [
       "<div>\n",
       "<style scoped>\n",
       "    .dataframe tbody tr th:only-of-type {\n",
       "        vertical-align: middle;\n",
       "    }\n",
       "\n",
       "    .dataframe tbody tr th {\n",
       "        vertical-align: top;\n",
       "    }\n",
       "\n",
       "    .dataframe thead th {\n",
       "        text-align: right;\n",
       "    }\n",
       "</style>\n",
       "<table border=\"1\" class=\"dataframe\">\n",
       "  <thead>\n",
       "    <tr style=\"text-align: right;\">\n",
       "      <th></th>\n",
       "      <th>Name</th>\n",
       "      <th>age</th>\n",
       "      <th>Salary</th>\n",
       "      <th>Dept</th>\n",
       "      <th>Promoted Salary</th>\n",
       "      <th>firs_Name</th>\n",
       "      <th>last_Name</th>\n",
       "    </tr>\n",
       "  </thead>\n",
       "  <tbody>\n",
       "    <tr>\n",
       "      <th>0</th>\n",
       "      <td>Ram</td>\n",
       "      <td>92.0</td>\n",
       "      <td>55000.0</td>\n",
       "      <td>Frontend</td>\n",
       "      <td>550000.0</td>\n",
       "      <td>Ram</td>\n",
       "      <td>None</td>\n",
       "    </tr>\n",
       "    <tr>\n",
       "      <th>1</th>\n",
       "      <td>Mohan</td>\n",
       "      <td>144.0</td>\n",
       "      <td>70000.0</td>\n",
       "      <td>manager</td>\n",
       "      <td>700.0</td>\n",
       "      <td>Mohan</td>\n",
       "      <td>None</td>\n",
       "    </tr>\n",
       "    <tr>\n",
       "      <th>2</th>\n",
       "      <td>Sohan_Agarwal</td>\n",
       "      <td>NaN</td>\n",
       "      <td>NaN</td>\n",
       "      <td>Tusty</td>\n",
       "      <td>NaN</td>\n",
       "      <td>Sohan</td>\n",
       "      <td>Agarwal</td>\n",
       "    </tr>\n",
       "    <tr>\n",
       "      <th>3</th>\n",
       "      <td>Priya_sehgal</td>\n",
       "      <td>160.0</td>\n",
       "      <td>88000.0</td>\n",
       "      <td>HR</td>\n",
       "      <td>880.0</td>\n",
       "      <td>Priya</td>\n",
       "      <td>sehgal</td>\n",
       "    </tr>\n",
       "  </tbody>\n",
       "</table>\n",
       "</div>"
      ],
      "text/plain": [
       "            Name    age   Salary      Dept  Promoted Salary firs_Name  \\\n",
       "0            Ram   92.0  55000.0  Frontend         550000.0       Ram   \n",
       "1          Mohan  144.0  70000.0   manager            700.0     Mohan   \n",
       "2  Sohan_Agarwal    NaN      NaN     Tusty              NaN     Sohan   \n",
       "3   Priya_sehgal  160.0  88000.0        HR            880.0     Priya   \n",
       "\n",
       "  last_Name  \n",
       "0      None  \n",
       "1      None  \n",
       "2   Agarwal  \n",
       "3    sehgal  "
      ]
     },
     "execution_count": 328,
     "metadata": {},
     "output_type": "execute_result"
    }
   ],
   "source": [
    "df[\"age\"] = df[\"age\"].apply(lambda x: x*2) \n",
    "df"
   ]
  },
  {
   "cell_type": "markdown",
   "id": "116a874e",
   "metadata": {},
   "source": [
    "## Joins and Merges"
   ]
  },
  {
   "cell_type": "code",
   "execution_count": 330,
   "id": "92371fc0",
   "metadata": {},
   "outputs": [
    {
     "data": {
      "text/html": [
       "<div>\n",
       "<style scoped>\n",
       "    .dataframe tbody tr th:only-of-type {\n",
       "        vertical-align: middle;\n",
       "    }\n",
       "\n",
       "    .dataframe tbody tr th {\n",
       "        vertical-align: top;\n",
       "    }\n",
       "\n",
       "    .dataframe thead th {\n",
       "        text-align: right;\n",
       "    }\n",
       "</style>\n",
       "<table border=\"1\" class=\"dataframe\">\n",
       "  <thead>\n",
       "    <tr style=\"text-align: right;\">\n",
       "      <th></th>\n",
       "      <th>Name</th>\n",
       "      <th>age</th>\n",
       "      <th>Salary</th>\n",
       "      <th>Department</th>\n",
       "      <th>Degree</th>\n",
       "    </tr>\n",
       "  </thead>\n",
       "  <tbody>\n",
       "    <tr>\n",
       "      <th>0</th>\n",
       "      <td>Rohan</td>\n",
       "      <td>23.0</td>\n",
       "      <td>45000.0</td>\n",
       "      <td>Frontend</td>\n",
       "      <td>NaN</td>\n",
       "    </tr>\n",
       "    <tr>\n",
       "      <th>1</th>\n",
       "      <td>Mohan</td>\n",
       "      <td>36.0</td>\n",
       "      <td>60000.0</td>\n",
       "      <td>manager</td>\n",
       "      <td>NaN</td>\n",
       "    </tr>\n",
       "    <tr>\n",
       "      <th>2</th>\n",
       "      <td>Sohan_Agarwal</td>\n",
       "      <td>NaN</td>\n",
       "      <td>NaN</td>\n",
       "      <td>Tusty</td>\n",
       "      <td>NaN</td>\n",
       "    </tr>\n",
       "    <tr>\n",
       "      <th>3</th>\n",
       "      <td>Priya_sehgal</td>\n",
       "      <td>40.0</td>\n",
       "      <td>78000.0</td>\n",
       "      <td>HR</td>\n",
       "      <td>NaN</td>\n",
       "    </tr>\n",
       "    <tr>\n",
       "      <th>0</th>\n",
       "      <td>Ram</td>\n",
       "      <td>62.0</td>\n",
       "      <td>4500.0</td>\n",
       "      <td>NaN</td>\n",
       "      <td>B.tech</td>\n",
       "    </tr>\n",
       "    <tr>\n",
       "      <th>1</th>\n",
       "      <td>Manan</td>\n",
       "      <td>65.0</td>\n",
       "      <td>6000.0</td>\n",
       "      <td>NaN</td>\n",
       "      <td>B.Sc</td>\n",
       "    </tr>\n",
       "    <tr>\n",
       "      <th>2</th>\n",
       "      <td>kirti</td>\n",
       "      <td>50.0</td>\n",
       "      <td>NaN</td>\n",
       "      <td>NaN</td>\n",
       "      <td>MBA</td>\n",
       "    </tr>\n",
       "    <tr>\n",
       "      <th>3</th>\n",
       "      <td>jack</td>\n",
       "      <td>49.0</td>\n",
       "      <td>85000.0</td>\n",
       "      <td>NaN</td>\n",
       "      <td>CA</td>\n",
       "    </tr>\n",
       "  </tbody>\n",
       "</table>\n",
       "</div>"
      ],
      "text/plain": [
       "            Name   age   Salary Department  Degree\n",
       "0          Rohan  23.0  45000.0   Frontend     NaN\n",
       "1          Mohan  36.0  60000.0    manager     NaN\n",
       "2  Sohan_Agarwal   NaN      NaN      Tusty     NaN\n",
       "3   Priya_sehgal  40.0  78000.0         HR     NaN\n",
       "0            Ram  62.0   4500.0        NaN  B.tech\n",
       "1          Manan  65.0   6000.0        NaN    B.Sc\n",
       "2          kirti  50.0      NaN        NaN     MBA\n",
       "3           jack  49.0  85000.0        NaN      CA"
      ]
     },
     "execution_count": 330,
     "metadata": {},
     "output_type": "execute_result"
    }
   ],
   "source": [
    "data = {\n",
    "    \"Name\":[\"Rohan\",\"Mohan\",\"Sohan_Agarwal\",\"Priya_sehgal\"],\n",
    "    \"age\":[23,36,np.nan,40],\n",
    "    \"Salary\":[45000,60000,np.nan,78000],\n",
    "    \"Department\":[\"Frontend\",\"manager\",\"Tusty\",\"HR\"]\n",
    "}\n",
    "df=pd.DataFrame(data)\n",
    "\n",
    "data2 = {\n",
    "    \"Name\":[\"Ram\",\"Manan\",\"kirti\",\"jack\"],\n",
    "    \"age\":[62,65,50,49],\n",
    "    \"Salary\":[4500,6000,np.nan,85000],\n",
    "    \"Degree\":[\"B.tech\",\"B.Sc\",\"MBA\",\"CA\"]\n",
    "}\n",
    "df2=pd.DataFrame(data2)\n",
    "\n",
    "pd.concat([df,df2])"
   ]
  },
  {
   "cell_type": "code",
   "execution_count": 331,
   "id": "06a6c2ea",
   "metadata": {},
   "outputs": [
    {
     "data": {
      "text/html": [
       "<div>\n",
       "<style scoped>\n",
       "    .dataframe tbody tr th:only-of-type {\n",
       "        vertical-align: middle;\n",
       "    }\n",
       "\n",
       "    .dataframe tbody tr th {\n",
       "        vertical-align: top;\n",
       "    }\n",
       "\n",
       "    .dataframe thead th {\n",
       "        text-align: right;\n",
       "    }\n",
       "</style>\n",
       "<table border=\"1\" class=\"dataframe\">\n",
       "  <thead>\n",
       "    <tr style=\"text-align: right;\">\n",
       "      <th></th>\n",
       "      <th>Name</th>\n",
       "      <th>age</th>\n",
       "      <th>Salary</th>\n",
       "      <th>Department</th>\n",
       "      <th>Name</th>\n",
       "      <th>age</th>\n",
       "      <th>Salary</th>\n",
       "      <th>Degree</th>\n",
       "    </tr>\n",
       "  </thead>\n",
       "  <tbody>\n",
       "    <tr>\n",
       "      <th>0</th>\n",
       "      <td>Rohan</td>\n",
       "      <td>23.0</td>\n",
       "      <td>45000.0</td>\n",
       "      <td>Frontend</td>\n",
       "      <td>Ram</td>\n",
       "      <td>62</td>\n",
       "      <td>4500.0</td>\n",
       "      <td>B.tech</td>\n",
       "    </tr>\n",
       "    <tr>\n",
       "      <th>1</th>\n",
       "      <td>Mohan</td>\n",
       "      <td>36.0</td>\n",
       "      <td>60000.0</td>\n",
       "      <td>manager</td>\n",
       "      <td>Manan</td>\n",
       "      <td>65</td>\n",
       "      <td>6000.0</td>\n",
       "      <td>B.Sc</td>\n",
       "    </tr>\n",
       "    <tr>\n",
       "      <th>2</th>\n",
       "      <td>Sohan_Agarwal</td>\n",
       "      <td>NaN</td>\n",
       "      <td>NaN</td>\n",
       "      <td>Tusty</td>\n",
       "      <td>kirti</td>\n",
       "      <td>50</td>\n",
       "      <td>NaN</td>\n",
       "      <td>MBA</td>\n",
       "    </tr>\n",
       "    <tr>\n",
       "      <th>3</th>\n",
       "      <td>Priya_sehgal</td>\n",
       "      <td>40.0</td>\n",
       "      <td>78000.0</td>\n",
       "      <td>HR</td>\n",
       "      <td>jack</td>\n",
       "      <td>49</td>\n",
       "      <td>85000.0</td>\n",
       "      <td>CA</td>\n",
       "    </tr>\n",
       "  </tbody>\n",
       "</table>\n",
       "</div>"
      ],
      "text/plain": [
       "            Name   age   Salary Department   Name  age   Salary  Degree\n",
       "0          Rohan  23.0  45000.0   Frontend    Ram   62   4500.0  B.tech\n",
       "1          Mohan  36.0  60000.0    manager  Manan   65   6000.0    B.Sc\n",
       "2  Sohan_Agarwal   NaN      NaN      Tusty  kirti   50      NaN     MBA\n",
       "3   Priya_sehgal  40.0  78000.0         HR   jack   49  85000.0      CA"
      ]
     },
     "execution_count": 331,
     "metadata": {},
     "output_type": "execute_result"
    }
   ],
   "source": [
    "pd.concat([df,df2],axis=1)"
   ]
  },
  {
   "cell_type": "code",
   "execution_count": 337,
   "id": "6eb2ebf7",
   "metadata": {},
   "outputs": [
    {
     "data": {
      "text/html": [
       "<div>\n",
       "<style scoped>\n",
       "    .dataframe tbody tr th:only-of-type {\n",
       "        vertical-align: middle;\n",
       "    }\n",
       "\n",
       "    .dataframe tbody tr th {\n",
       "        vertical-align: top;\n",
       "    }\n",
       "\n",
       "    .dataframe thead th {\n",
       "        text-align: right;\n",
       "    }\n",
       "</style>\n",
       "<table border=\"1\" class=\"dataframe\">\n",
       "  <thead>\n",
       "    <tr style=\"text-align: right;\">\n",
       "      <th></th>\n",
       "      <th>Name_x</th>\n",
       "      <th>age</th>\n",
       "      <th>Salary</th>\n",
       "      <th>Department</th>\n",
       "      <th>Name_y</th>\n",
       "      <th>Degree</th>\n",
       "    </tr>\n",
       "  </thead>\n",
       "  <tbody>\n",
       "  </tbody>\n",
       "</table>\n",
       "</div>"
      ],
      "text/plain": [
       "Empty DataFrame\n",
       "Columns: [Name_x, age, Salary, Department, Name_y, Degree]\n",
       "Index: []"
      ]
     },
     "execution_count": 337,
     "metadata": {},
     "output_type": "execute_result"
    }
   ],
   "source": [
    "pd.merge(df,df2, on=[\"Salary\",\"age\"])\n"
   ]
  }
 ],
 "metadata": {
  "kernelspec": {
   "display_name": "venv",
   "language": "python",
   "name": "python3"
  },
  "language_info": {
   "codemirror_mode": {
    "name": "ipython",
    "version": 3
   },
   "file_extension": ".py",
   "mimetype": "text/x-python",
   "name": "python",
   "nbconvert_exporter": "python",
   "pygments_lexer": "ipython3",
   "version": "3.13.5"
  }
 },
 "nbformat": 4,
 "nbformat_minor": 5
}

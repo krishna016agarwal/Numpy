{
 "cells": [
  {
   "cell_type": "code",
   "execution_count": 48,
   "id": "37b83250",
   "metadata": {},
   "outputs": [],
   "source": [
    "import pandas as pd\n",
    "import numpy as np"
   ]
  },
  {
   "cell_type": "code",
   "execution_count": 3,
   "id": "df2e9ea5",
   "metadata": {},
   "outputs": [
    {
     "name": "stdout",
     "output_type": "stream",
     "text": [
      "0    1\n",
      "1    2\n",
      "2    3\n",
      "3    4\n",
      "dtype: int64\n"
     ]
    }
   ],
   "source": [
    "arr=pd.Series([1,2,3,4])\n",
    "print(arr)"
   ]
  },
  {
   "cell_type": "code",
   "execution_count": 4,
   "id": "7c9a39a1",
   "metadata": {},
   "outputs": [
    {
     "name": "stdout",
     "output_type": "stream",
     "text": [
      "0      1\n",
      "1      2\n",
      "2      3\n",
      "3      4\n",
      "4    abc\n",
      "dtype: object\n"
     ]
    }
   ],
   "source": [
    "arr=pd.Series([1,2,3,4,\"abc\"])\n",
    "print(arr)"
   ]
  },
  {
   "cell_type": "code",
   "execution_count": 6,
   "id": "68c2cb4f",
   "metadata": {},
   "outputs": [
    {
     "name": "stdout",
     "output_type": "stream",
     "text": [
      "object\n",
      "RangeIndex(start=0, stop=5, step=1)\n"
     ]
    }
   ],
   "source": [
    "print(arr.dtype)\n",
    "print(arr.index)"
   ]
  },
  {
   "cell_type": "code",
   "execution_count": 7,
   "id": "29aa6bb6",
   "metadata": {},
   "outputs": [
    {
     "name": "stdout",
     "output_type": "stream",
     "text": [
      "None\n"
     ]
    }
   ],
   "source": [
    "print(arr.name)"
   ]
  },
  {
   "cell_type": "code",
   "execution_count": 8,
   "id": "2d4118cc",
   "metadata": {},
   "outputs": [
    {
     "name": "stdout",
     "output_type": "stream",
     "text": [
      "0      1\n",
      "1      2\n",
      "2      3\n",
      "3      4\n",
      "4    abc\n",
      "Name: Numbers, dtype: object\n"
     ]
    }
   ],
   "source": [
    "arr.name=\"Numbers\"\n",
    "print(arr)"
   ]
  },
  {
   "cell_type": "markdown",
   "id": "3e7546e7",
   "metadata": {},
   "source": [
    "## Indexing"
   ]
  },
  {
   "cell_type": "code",
   "execution_count": 11,
   "id": "bf0ac20c",
   "metadata": {},
   "outputs": [
    {
     "name": "stdout",
     "output_type": "stream",
     "text": [
      "1\n",
      "\n",
      " 0    1\n",
      "1    2\n",
      "2    3\n",
      "Name: Numbers, dtype: object\n"
     ]
    }
   ],
   "source": [
    "print(arr[0])\n",
    "print(\"\\n\",arr[0:3])"
   ]
  },
  {
   "cell_type": "markdown",
   "id": "03cd99d1",
   "metadata": {},
   "source": [
    "## iloc -> location based indexing"
   ]
  },
  {
   "cell_type": "code",
   "execution_count": 16,
   "id": "6d0e0580",
   "metadata": {},
   "outputs": [
    {
     "name": "stdout",
     "output_type": "stream",
     "text": [
      "4\n",
      "4\n",
      "\n",
      " 1    2\n",
      "3    4\n",
      "Name: Numbers, dtype: object\n"
     ]
    }
   ],
   "source": [
    "print(arr.iloc[3])\n",
    "print(arr[3])\n",
    "\n",
    "print(\"\\n\",arr.iloc[[1,3]])"
   ]
  },
  {
   "cell_type": "code",
   "execution_count": 24,
   "id": "f39daccd",
   "metadata": {},
   "outputs": [
    {
     "name": "stdout",
     "output_type": "stream",
     "text": [
      "apple     10\n",
      "banana    20\n",
      "grapes    30\n",
      "mango     40\n",
      "Name: calories, dtype: int64\n",
      "30\n"
     ]
    }
   ],
   "source": [
    "index= [\"apple\",\"banana\",\"grapes\",\"mango\"]\n",
    "arr=pd.Series([10,20,30,40])\n",
    "arr.index=index\n",
    "arr.name=\"calories\"\n",
    "print(arr)\n",
    "\n",
    "print(arr[\"grapes\"])\n",
    "# Error ->  iloc only works with numeric indexing\n",
    "\n",
    "# print(arr.iloc['banana'])  -> Give error"
   ]
  },
  {
   "cell_type": "markdown",
   "id": "8c6a8aad",
   "metadata": {},
   "source": [
    "## loc -> label based indexing\n",
    "### In label based indexing your start as well as stop value both are included in the output"
   ]
  },
  {
   "cell_type": "code",
   "execution_count": 26,
   "id": "8745a687",
   "metadata": {},
   "outputs": [
    {
     "name": "stdout",
     "output_type": "stream",
     "text": [
      "banana    20\n",
      "mango     40\n",
      "Name: calories, dtype: int64\n"
     ]
    }
   ],
   "source": [
    "print(arr.loc[[\"banana\",\"mango\"]])"
   ]
  },
  {
   "cell_type": "code",
   "execution_count": 28,
   "id": "10e385f6",
   "metadata": {},
   "outputs": [
    {
     "name": "stdout",
     "output_type": "stream",
     "text": [
      "banana    20\n",
      "grapes    30\n",
      "mango     40\n",
      "Name: calories, dtype: int64\n"
     ]
    }
   ],
   "source": [
    "print(arr[\"banana\":\"mango\"])"
   ]
  },
  {
   "cell_type": "code",
   "execution_count": 29,
   "id": "af0dc957",
   "metadata": {},
   "outputs": [
    {
     "name": "stdout",
     "output_type": "stream",
     "text": [
      "apple    40\n",
      "mango    60\n",
      "pears    70\n",
      "Name: proteins, dtype: int64\n"
     ]
    }
   ],
   "source": [
    "dict = {\n",
    "    \"apple\":40,\n",
    "    \"mango\":60,\n",
    "    \"pears\":70\n",
    "    }\n",
    "arr2=pd.Series(dict,name=\"proteins\")\n",
    "print(arr2)"
   ]
  },
  {
   "cell_type": "markdown",
   "id": "d6abf1de",
   "metadata": {},
   "source": [
    "## Conditional Selection"
   ]
  },
  {
   "cell_type": "code",
   "execution_count": 36,
   "id": "81a70d58",
   "metadata": {},
   "outputs": [
    {
     "name": "stdout",
     "output_type": "stream",
     "text": [
      "apple    False\n",
      "mango     True\n",
      "pears     True\n",
      "Name: proteins, dtype: bool\n"
     ]
    }
   ],
   "source": [
    "print(arr2>40)"
   ]
  },
  {
   "cell_type": "code",
   "execution_count": 39,
   "id": "e95a7fa7",
   "metadata": {},
   "outputs": [
    {
     "name": "stdout",
     "output_type": "stream",
     "text": [
      "mango    60\n",
      "pears    70\n",
      "Name: proteins, dtype: int64\n"
     ]
    }
   ],
   "source": [
    "print(arr2[arr2>40])"
   ]
  },
  {
   "cell_type": "markdown",
   "id": "1e33d241",
   "metadata": {},
   "source": [
    "## Logical Operators"
   ]
  },
  {
   "cell_type": "code",
   "execution_count": 41,
   "id": "256d6888",
   "metadata": {},
   "outputs": [
    {
     "name": "stdout",
     "output_type": "stream",
     "text": [
      "apple    False\n",
      "mango     True\n",
      "pears    False\n",
      "Name: proteins, dtype: bool\n"
     ]
    }
   ],
   "source": [
    "print((arr2>50) & (arr2<65))"
   ]
  },
  {
   "cell_type": "code",
   "execution_count": 44,
   "id": "9bf5619b",
   "metadata": {},
   "outputs": [
    {
     "name": "stdout",
     "output_type": "stream",
     "text": [
      "apple    40\n",
      "mango    60\n",
      "Name: proteins, dtype: int64\n"
     ]
    }
   ],
   "source": [
    "print(arr2[(arr2>70) | (arr2<65)])"
   ]
  },
  {
   "cell_type": "code",
   "execution_count": 45,
   "id": "04aa9d16",
   "metadata": {},
   "outputs": [
    {
     "name": "stdout",
     "output_type": "stream",
     "text": [
      "apple    40\n",
      "mango    60\n",
      "Name: proteins, dtype: int64\n"
     ]
    }
   ],
   "source": [
    "print(arr2[~(arr2>60)])"
   ]
  },
  {
   "cell_type": "markdown",
   "id": "9f2d97c4",
   "metadata": {},
   "source": [
    "## Modifying the series"
   ]
  },
  {
   "cell_type": "code",
   "execution_count": 47,
   "id": "d5cd6a1a",
   "metadata": {},
   "outputs": [
    {
     "name": "stdout",
     "output_type": "stream",
     "text": [
      "apple    100\n",
      "mango     60\n",
      "pears     70\n",
      "Name: proteins, dtype: int64\n"
     ]
    }
   ],
   "source": [
    "arr2[\"apple\"]=100\n",
    "print(arr2)"
   ]
  },
  {
   "cell_type": "code",
   "execution_count": 59,
   "id": "198e7b74",
   "metadata": {},
   "outputs": [
    {
     "name": "stdout",
     "output_type": "stream",
     "text": [
      "3\n"
     ]
    }
   ],
   "source": [
    "ser=pd.Series(['a',np.nan,1,np.nan,2])\n",
    "print(ser.notnull().sum())"
   ]
  },
  {
   "cell_type": "markdown",
   "id": "7b4f0f08",
   "metadata": {},
   "source": [
    "## Data Frames"
   ]
  },
  {
   "cell_type": "code",
   "execution_count": 64,
   "id": "770ec2a1",
   "metadata": {},
   "outputs": [
    {
     "name": "stdout",
     "output_type": "stream",
     "text": [
      "    Name  age  Salary Department\n",
      "0  Rohan   23   45000   Frontend\n",
      "1  Mohan   36   60000    manager\n"
     ]
    }
   ],
   "source": [
    "data = {\n",
    "    \"Name\":[\"Rohan\",\"Mohan\"],\n",
    "    \"age\":[23,36],\n",
    "    \"Salary\":[45000,60000],\n",
    "    \"Department\":[\"Frontend\",\"manager\"]\n",
    "}\n",
    "df=pd.DataFrame(data)\n",
    "print(df)"
   ]
  },
  {
   "cell_type": "code",
   "execution_count": 65,
   "id": "fabd4a88",
   "metadata": {},
   "outputs": [
    {
     "data": {
      "text/html": [
       "<div>\n",
       "<style scoped>\n",
       "    .dataframe tbody tr th:only-of-type {\n",
       "        vertical-align: middle;\n",
       "    }\n",
       "\n",
       "    .dataframe tbody tr th {\n",
       "        vertical-align: top;\n",
       "    }\n",
       "\n",
       "    .dataframe thead th {\n",
       "        text-align: right;\n",
       "    }\n",
       "</style>\n",
       "<table border=\"1\" class=\"dataframe\">\n",
       "  <thead>\n",
       "    <tr style=\"text-align: right;\">\n",
       "      <th></th>\n",
       "      <th>Name</th>\n",
       "      <th>age</th>\n",
       "      <th>Salary</th>\n",
       "      <th>Department</th>\n",
       "    </tr>\n",
       "  </thead>\n",
       "  <tbody>\n",
       "    <tr>\n",
       "      <th>0</th>\n",
       "      <td>Rohan</td>\n",
       "      <td>23</td>\n",
       "      <td>45000</td>\n",
       "      <td>Frontend</td>\n",
       "    </tr>\n",
       "    <tr>\n",
       "      <th>1</th>\n",
       "      <td>Mohan</td>\n",
       "      <td>36</td>\n",
       "      <td>60000</td>\n",
       "      <td>manager</td>\n",
       "    </tr>\n",
       "  </tbody>\n",
       "</table>\n",
       "</div>"
      ],
      "text/plain": [
       "    Name  age  Salary Department\n",
       "0  Rohan   23   45000   Frontend\n",
       "1  Mohan   36   60000    manager"
      ]
     },
     "execution_count": 65,
     "metadata": {},
     "output_type": "execute_result"
    }
   ],
   "source": [
    "df.head(2) # print first two rows"
   ]
  },
  {
   "cell_type": "code",
   "execution_count": 66,
   "id": "41bf0c46",
   "metadata": {},
   "outputs": [
    {
     "data": {
      "text/html": [
       "<div>\n",
       "<style scoped>\n",
       "    .dataframe tbody tr th:only-of-type {\n",
       "        vertical-align: middle;\n",
       "    }\n",
       "\n",
       "    .dataframe tbody tr th {\n",
       "        vertical-align: top;\n",
       "    }\n",
       "\n",
       "    .dataframe thead th {\n",
       "        text-align: right;\n",
       "    }\n",
       "</style>\n",
       "<table border=\"1\" class=\"dataframe\">\n",
       "  <thead>\n",
       "    <tr style=\"text-align: right;\">\n",
       "      <th></th>\n",
       "      <th>Name</th>\n",
       "      <th>age</th>\n",
       "      <th>Salary</th>\n",
       "      <th>Department</th>\n",
       "    </tr>\n",
       "  </thead>\n",
       "  <tbody>\n",
       "    <tr>\n",
       "      <th>1</th>\n",
       "      <td>Mohan</td>\n",
       "      <td>36</td>\n",
       "      <td>60000</td>\n",
       "      <td>manager</td>\n",
       "    </tr>\n",
       "  </tbody>\n",
       "</table>\n",
       "</div>"
      ],
      "text/plain": [
       "    Name  age  Salary Department\n",
       "1  Mohan   36   60000    manager"
      ]
     },
     "execution_count": 66,
     "metadata": {},
     "output_type": "execute_result"
    }
   ],
   "source": [
    "df.tail(1) # print last row"
   ]
  },
  {
   "cell_type": "code",
   "execution_count": null,
   "id": "fafe13fe",
   "metadata": {},
   "outputs": [],
   "source": []
  }
 ],
 "metadata": {
  "kernelspec": {
   "display_name": "venv",
   "language": "python",
   "name": "python3"
  },
  "language_info": {
   "codemirror_mode": {
    "name": "ipython",
    "version": 3
   },
   "file_extension": ".py",
   "mimetype": "text/x-python",
   "name": "python",
   "nbconvert_exporter": "python",
   "pygments_lexer": "ipython3",
   "version": "3.13.5"
  }
 },
 "nbformat": 4,
 "nbformat_minor": 5
}

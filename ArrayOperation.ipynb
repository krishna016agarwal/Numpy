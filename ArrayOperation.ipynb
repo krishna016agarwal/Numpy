{
 "cells": [
  {
   "cell_type": "markdown",
   "id": "80ff963c",
   "metadata": {},
   "source": [
    "## Numpy Array operations"
   ]
  },
  {
   "cell_type": "code",
   "execution_count": 1,
   "id": "d1677993",
   "metadata": {},
   "outputs": [],
   "source": [
    "import numpy as np"
   ]
  },
  {
   "cell_type": "code",
   "execution_count": 2,
   "id": "da3b16f7",
   "metadata": {},
   "outputs": [
    {
     "name": "stdout",
     "output_type": "stream",
     "text": [
      "[2 3 4 5]\n"
     ]
    }
   ],
   "source": [
    "arr =np.arange(1,11)\n",
    "print(arr[1:5])\n"
   ]
  },
  {
   "cell_type": "code",
   "execution_count": 8,
   "id": "81ae8306",
   "metadata": {},
   "outputs": [
    {
     "name": "stdout",
     "output_type": "stream",
     "text": [
      "6\n",
      "Entire row [4 5 6]\n",
      "Entire column [3 6 9]\n"
     ]
    }
   ],
   "source": [
    "arr=np.array([[1,2,3],\n",
    "              [4,5,6],\n",
    "              [7,8,9]])\n",
    "print(arr[1,2])\n",
    "\n",
    "print(\"Entire row\",arr[1])\n",
    "print(\"Entire column\",arr[:,2])"
   ]
  },
  {
   "cell_type": "markdown",
   "id": "f74f1497",
   "metadata": {},
   "source": [
    "## Sorting"
   ]
  },
  {
   "cell_type": "code",
   "execution_count": 17,
   "id": "1a38c5ef",
   "metadata": {},
   "outputs": [
    {
     "name": "stdout",
     "output_type": "stream",
     "text": [
      "[ 1  2  3  4  5  5  6  7  8  8  9  9 10 11 42 89]\n",
      "\n",
      " [[3 8 9]\n",
      " [1 2 7]]\n",
      "\n",
      " [[2 1 7]\n",
      " [8 3 9]]\n"
     ]
    }
   ],
   "source": [
    "unsorted=np.array([8,5,9,1,7,3,6,4,8,2,9,5,11,89,42,10])\n",
    "print(np.sort(unsorted))\n",
    "\n",
    "arr_2d=np.array([[8,3,9],[2,1,7]])\n",
    "print(\"\\n\",np.sort(arr_2d,axis=1))  # left to right\n",
    "\n",
    "print(\"\\n\",np.sort(arr_2d,axis=0))  #top to bottom"
   ]
  },
  {
   "cell_type": "markdown",
   "id": "f5f61c5e",
   "metadata": {},
   "source": [
    "## Filter"
   ]
  },
  {
   "cell_type": "code",
   "execution_count": 18,
   "id": "c84ff335",
   "metadata": {},
   "outputs": [
    {
     "name": "stdout",
     "output_type": "stream",
     "text": [
      "[ 0  2  4  6  8 10]\n"
     ]
    }
   ],
   "source": [
    "num=np.arange(12)\n",
    "even=num[num%2==0]\n",
    "print(even)"
   ]
  },
  {
   "cell_type": "markdown",
   "id": "acae680e",
   "metadata": {},
   "source": [
    "## Filter with mask"
   ]
  },
  {
   "cell_type": "code",
   "execution_count": 19,
   "id": "c39ce17f",
   "metadata": {},
   "outputs": [
    {
     "name": "stdout",
     "output_type": "stream",
     "text": [
      "[ 6  7  8  9 10 11]\n"
     ]
    }
   ],
   "source": [
    "mask = num > 5\n",
    "print(num[mask])"
   ]
  },
  {
   "cell_type": "markdown",
   "id": "4f13c783",
   "metadata": {},
   "source": [
    "## Fancy indexing vs np.where()"
   ]
  },
  {
   "cell_type": "code",
   "execution_count": 22,
   "id": "08f925bb",
   "metadata": {},
   "outputs": [
    {
     "name": "stdout",
     "output_type": "stream",
     "text": [
      "[0 2 5]\n",
      "[ 6  7  8  9 10 11]\n"
     ]
    }
   ],
   "source": [
    "indices=[0,2,5]\n",
    "print(num[indices])\n",
    "\n",
    "where_result=np.where(num>5)\n",
    "print(num[where_result])"
   ]
  },
  {
   "cell_type": "code",
   "execution_count": 28,
   "id": "8169fc75",
   "metadata": {},
   "outputs": [
    {
     "name": "stdout",
     "output_type": "stream",
     "text": [
      "[ 0  1  2  3  4  5 12 14 16 18 20 22]\n",
      "[False False False False False False  True  True  True  True  True  True]\n"
     ]
    }
   ],
   "source": [
    "condition_array=np.where(num>5,num*2,num ) # num*2 is x and num is y\n",
    "print(condition_array)\n",
    "\n",
    "# explanation of above code\n",
    "\n",
    "# if(num>5){\n",
    "#    num* 2\n",
    "# }else{\n",
    "#    num\n",
    "# }\n",
    "\n",
    "cond_array=np.where(num>5,True,False )\n",
    "print(cond_array)"
   ]
  },
  {
   "cell_type": "markdown",
   "id": "30c76c15",
   "metadata": {},
   "source": [
    "## Adding and Removing data"
   ]
  },
  {
   "cell_type": "code",
   "execution_count": 32,
   "id": "26e73c9e",
   "metadata": {},
   "outputs": [
    {
     "name": "stdout",
     "output_type": "stream",
     "text": [
      "[5 7 9]\n",
      "[1 2 3 4 5 6]\n"
     ]
    }
   ],
   "source": [
    "arr=np.array([1,2,3])\n",
    "arr2=np.array([4,5,6])\n",
    "print(arr+arr2)\n",
    "\n",
    "print(np.concatenate((arr,arr2)))"
   ]
  },
  {
   "cell_type": "markdown",
   "id": "a768aa2b",
   "metadata": {},
   "source": [
    "### Array compatility"
   ]
  },
  {
   "cell_type": "code",
   "execution_count": 36,
   "id": "3ac86836",
   "metadata": {},
   "outputs": [
    {
     "name": "stdout",
     "output_type": "stream",
     "text": [
      "Compatibity shapes False\n",
      "Compatibity shapes True\n"
     ]
    }
   ],
   "source": [
    "arr=np.array([1,2,3])\n",
    "arr2=np.array([4,5,6,8])\n",
    "arr3=np.array([7,8,9])\n",
    "\n",
    "print(\"Compatibity shapes\",arr.shape==arr2.shape)\n",
    "print(\"Compatibity shapes\",arr.shape==arr3.shape)"
   ]
  },
  {
   "cell_type": "code",
   "execution_count": null,
   "id": "568099eb",
   "metadata": {},
   "outputs": [
    {
     "name": "stdout",
     "output_type": "stream",
     "text": [
      "[[1 2]\n",
      " [3 4]\n",
      " [8 9]]\n",
      "\n",
      " [[ 1  2  7]\n",
      " [ 3  4 48]\n",
      " [ 8  9 89]]\n"
     ]
    }
   ],
   "source": [
    "original=np.array([[1,2],[3,4]])\n",
    "new_row=np.array([8,9])\n",
    "\n",
    "with_new_row=np.vstack((original,new_row))\n",
    "print(with_new_row) #vstack add new row\n",
    "\n",
    "new_col=np.array([[7],[48],[89]])\n",
    "print(\"\\n\",np.hstack((with_new_row,new_col))) #hstack add new column  \n",
    "\n"
   ]
  },
  {
   "cell_type": "code",
   "execution_count": 48,
   "id": "146bd34a",
   "metadata": {},
   "outputs": [
    {
     "name": "stdout",
     "output_type": "stream",
     "text": [
      "[1 2 4]\n"
     ]
    }
   ],
   "source": [
    "arr=np.array([1,2,3,4])\n",
    "deleted=np.delete(arr,2)\n",
    "print(deleted)"
   ]
  },
  {
   "cell_type": "code",
   "execution_count": null,
   "id": "e3d18171",
   "metadata": {},
   "outputs": [],
   "source": []
  }
 ],
 "metadata": {
  "kernelspec": {
   "display_name": "venv",
   "language": "python",
   "name": "python3"
  },
  "language_info": {
   "codemirror_mode": {
    "name": "ipython",
    "version": 3
   },
   "file_extension": ".py",
   "mimetype": "text/x-python",
   "name": "python",
   "nbconvert_exporter": "python",
   "pygments_lexer": "ipython3",
   "version": "3.13.5"
  }
 },
 "nbformat": 4,
 "nbformat_minor": 5
}

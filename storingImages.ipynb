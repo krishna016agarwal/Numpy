{
 "cells": [
  {
   "cell_type": "markdown",
   "id": "196909ff",
   "metadata": {},
   "source": [
    "## Storing Images in Matrix"
   ]
  },
  {
   "cell_type": "code",
   "execution_count": 1,
   "id": "25d4766a",
   "metadata": {},
   "outputs": [],
   "source": [
    "import numpy as np\n",
    "import  matplotlib.pyplot as plt"
   ]
  },
  {
   "cell_type": "code",
   "execution_count": 3,
   "id": "ce56bf1a",
   "metadata": {},
   "outputs": [],
   "source": [
    "arr=np.array([1,2,3])\n",
    "arr2=np.array([7,8])\n",
    "\n",
    "np.save(\"array1.npy\",arr)\n",
    "np.save(\"array2.npy\",arr2)"
   ]
  },
  {
   "cell_type": "code",
   "execution_count": null,
   "id": "a4944621",
   "metadata": {},
   "outputs": [],
   "source": []
  }
 ],
 "metadata": {
  "kernelspec": {
   "display_name": "venv",
   "language": "python",
   "name": "python3"
  },
  "language_info": {
   "codemirror_mode": {
    "name": "ipython",
    "version": 3
   },
   "file_extension": ".py",
   "mimetype": "text/x-python",
   "name": "python",
   "nbconvert_exporter": "python",
   "pygments_lexer": "ipython3",
   "version": "3.13.5"
  }
 },
 "nbformat": 4,
 "nbformat_minor": 5
}

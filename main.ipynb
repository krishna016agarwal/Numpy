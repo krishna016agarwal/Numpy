{
 "cells": [
  {
   "cell_type": "markdown",
   "id": "adc7f0eb",
   "metadata": {},
   "source": [
    "##Shift + Enter to run the code\n"
   ]
  },
  {
   "cell_type": "code",
   "execution_count": 12,
   "id": "ce09748a",
   "metadata": {},
   "outputs": [],
   "source": [
    "import numpy as np"
   ]
  },
  {
   "cell_type": "code",
   "execution_count": 13,
   "id": "9b23f723",
   "metadata": {},
   "outputs": [
    {
     "name": "stdout",
     "output_type": "stream",
     "text": [
      "[1 2 3 4]\n"
     ]
    }
   ],
   "source": [
    "a= np.array([1,2,3,4])\n",
    "print(a)"
   ]
  },
  {
   "cell_type": "code",
   "execution_count": 14,
   "id": "ecf10ab6",
   "metadata": {},
   "outputs": [
    {
     "name": "stdout",
     "output_type": "stream",
     "text": [
      "[[1 2 3]\n",
      " [4 5 6]]\n"
     ]
    }
   ],
   "source": [
    "b=np.array([[1,2,3],[4,5,6]])\n",
    "print(b)"
   ]
  },
  {
   "cell_type": "code",
   "execution_count": 15,
   "id": "add998d2",
   "metadata": {},
   "outputs": [
    {
     "name": "stdout",
     "output_type": "stream",
     "text": [
      "[ 1  2  3  4  5  6  7  8  9 10]\n"
     ]
    }
   ],
   "source": [
    "c=np.arange(1,11)\n",
    "print(c)"
   ]
  },
  {
   "cell_type": "code",
   "execution_count": 16,
   "id": "16dcf687",
   "metadata": {},
   "outputs": [
    {
     "name": "stdout",
     "output_type": "stream",
     "text": [
      "[[0. 0. 0.]\n",
      " [0. 0. 0.]]\n"
     ]
    }
   ],
   "source": [
    "d=np.zeros((2,3))\n",
    "print(d)"
   ]
  },
  {
   "cell_type": "code",
   "execution_count": 17,
   "id": "75055765",
   "metadata": {},
   "outputs": [
    {
     "name": "stdout",
     "output_type": "stream",
     "text": [
      "[[1. 1. 1.]\n",
      " [1. 1. 1.]\n",
      " [1. 1. 1.]]\n"
     ]
    }
   ],
   "source": [
    "e=np.ones((3,3))\n",
    "print(e)\n"
   ]
  },
  {
   "cell_type": "code",
   "execution_count": 18,
   "id": "60e8ab7e",
   "metadata": {},
   "outputs": [
    {
     "name": "stdout",
     "output_type": "stream",
     "text": [
      "[1, 2, 3, 1, 2, 3]\n",
      "[2 4 6]\n"
     ]
    }
   ],
   "source": [
    "f=[1,2,3] ## python list\n",
    "print(f*2)\n",
    "g=np.array([1,2,3])\n",
    "print(g*2)"
   ]
  },
  {
   "cell_type": "code",
   "execution_count": 19,
   "id": "071fda27",
   "metadata": {},
   "outputs": [
    {
     "name": "stdout",
     "output_type": "stream",
     "text": [
      "[[6 6 6]\n",
      " [6 6 6]\n",
      " [6 6 6]\n",
      " [6 6 6]]\n"
     ]
    }
   ],
   "source": [
    "full=np.full((4,3),6) ## to get matrix of constants\n",
    "print(full)"
   ]
  },
  {
   "cell_type": "code",
   "execution_count": 20,
   "id": "d7c87ffc",
   "metadata": {},
   "outputs": [
    {
     "name": "stdout",
     "output_type": "stream",
     "text": [
      "[[0.11876231 0.10238152 0.02257828]\n",
      " [0.89467025 0.97661939 0.93638919]]\n"
     ]
    }
   ],
   "source": [
    "random=np.random.random((2,3))\n",
    "print(random)"
   ]
  },
  {
   "cell_type": "code",
   "execution_count": null,
   "id": "3ea3c61e",
   "metadata": {},
   "outputs": [],
   "source": []
  },
  {
   "cell_type": "markdown",
   "id": "cb492bd7",
   "metadata": {},
   "source": [
    "##vector -> 1d array "
   ]
  },
  {
   "cell_type": "markdown",
   "id": "576c62c2",
   "metadata": {},
   "source": [
    "## matrix ->2d array \n",
    "tensor -> mutidimensional array"
   ]
  },
  {
   "cell_type": "markdown",
   "id": "12d79f99",
   "metadata": {},
   "source": []
  },
  {
   "cell_type": "code",
   "execution_count": 21,
   "id": "9a65ca64",
   "metadata": {},
   "outputs": [
    {
     "name": "stdout",
     "output_type": "stream",
     "text": [
      "(2, 2)\n",
      "4\n",
      "int64\n",
      "2\n"
     ]
    }
   ],
   "source": [
    "arr=np.array([[1,2],[3,4]])\n",
    "print(arr.shape) ##order of matrix\n",
    "print(arr.size)  ## total number of elements\n",
    "print(arr.dtype)  ##datatype\n",
    "print(arr.ndim)  ## dimension of matrix"
   ]
  },
  {
   "cell_type": "code",
   "execution_count": 28,
   "id": "189cf851",
   "metadata": {},
   "outputs": [
    {
     "name": "stdout",
     "output_type": "stream",
     "text": [
      "[ 0  1  2  3  4  5  6  7  8  9 10 11]\n",
      "\n",
      " [[ 0  1  2]\n",
      " [ 3  4  5]\n",
      " [ 6  7  8]\n",
      " [ 9 10 11]]\n",
      "\n",
      " [ 0  1  2  3  4  5  6  7  8  9 10 11]\n",
      "\n",
      " [ 0  1  2  3  4  5  6  7  8  9 10 11]\n",
      "\n",
      " [[ 0  3  6  9]\n",
      " [ 1  4  7 10]\n",
      " [ 2  5  8 11]]\n"
     ]
    }
   ],
   "source": [
    "arr=np.arange(12)\n",
    "print(arr)\n",
    "\n",
    "reshape=arr.reshape((4,3))\n",
    "print(\"\\n\",reshape)\n",
    "\n",
    "flat=reshape.flatten()\n",
    "print(\"\\n\",flat)\n",
    "\n",
    "#ravel (returns view , instead of copy)\n",
    "ravel=reshape.ravel()\n",
    "print(\"\\n\",ravel)\n",
    "\n",
    "transpose = reshape.T\n",
    "print(\"\\n\",transpose)"
   ]
  },
  {
   "cell_type": "code",
   "execution_count": null,
   "id": "dc736964",
   "metadata": {},
   "outputs": [],
   "source": []
  }
 ],
 "metadata": {
  "kernelspec": {
   "display_name": "venv",
   "language": "python",
   "name": "python3"
  },
  "language_info": {
   "codemirror_mode": {
    "name": "ipython",
    "version": 3
   },
   "file_extension": ".py",
   "mimetype": "text/x-python",
   "name": "python",
   "nbconvert_exporter": "python",
   "pygments_lexer": "ipython3",
   "version": "3.13.5"
  }
 },
 "nbformat": 4,
 "nbformat_minor": 5
}
